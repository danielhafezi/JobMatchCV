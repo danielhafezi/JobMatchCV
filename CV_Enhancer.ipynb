{
  "nbformat": 4,
  "nbformat_minor": 0,
  "metadata": {
    "colab": {
      "provenance": []
    },
    "kernelspec": {
      "name": "python3",
      "display_name": "Python 3"
    },
    "language_info": {
      "name": "python"
    }
  },
  "cells": [
    {
      "cell_type": "markdown",
      "source": [
        "# Multi-Agent CV Enhancer\n",
        "\n",
        "This project utilizes AutoGen framework to create a multi-agent system for enhancing a CV based on a given job advertisement. The following agents are involved:\n",
        "- **User Input Agent**: Receives user input (CV and job advertisement link) and extracts text content.\n",
        "- **CV Analysis Agent**: Analyzes the structure, content, and formatting of the user's CV.\n",
        "- **Job Analysis Agent**: Analyzes the job requirements, qualifications, and desired skills.\n",
        "- **ATS Standards Agent**: Provides knowledge and guidelines on Applicant Tracking System (ATS) standards.\n",
        "- **CV Enhancement Agent**: Compares the CV content with the job requirements, identifies areas for improvement, and generates suggestions for modifications.\n",
        "- **User Output Agent**: Presents the CV enhancement suggestions to the user in a clear and organized manner.\n",
        "\n",
        "The project depends on extracting text content from the CV and fetching the job description from a job advertisement link. Here's how you can set up and run the project.\n",
        "\n"
      ],
      "metadata": {
        "id": "IvjdV4BaR20J"
      }
    },
    {
      "cell_type": "markdown",
      "source": [
        "## Step 1: Install Dependencies"
      ],
      "metadata": {
        "id": "2mfAX_1SjiLf"
      }
    },
    {
      "cell_type": "code",
      "execution_count": null,
      "metadata": {
        "id": "0uj_vaaZRcQX"
      },
      "outputs": [],
      "source": [
        "!pip install openai pyautogen requests beautifulsoup4 PyPDF2 python-docx python-dotenv\n",
        "!pip install mistralai\n",
        "!pip install pyautogen[google]\n",
        "!pip install pyautogen[\"anthropic\"]\n",
        "!pip install pyautogen[mistral]"
      ]
    },
    {
      "cell_type": "markdown",
      "source": [
        "## Step 2: Load Environment Variables\n",
        "Set your API keys and Autogen configuration:"
      ],
      "metadata": {
        "id": "YzWE6QjaR_d-"
      }
    },
    {
      "cell_type": "code",
      "source": [
        "import os\n",
        "import autogen\n",
        "from google.auth.exceptions import DefaultCredentialsError\n",
        "from google.oauth2 import service_account\n",
        "\n",
        "\n",
        "\n",
        "# Configuration for GPT-4o\n",
        "config_list_gpt4 = [\n",
        "    {\n",
        "        \"model\": \"gpt-4o\",\n",
        "        \"api_key\": \"your-api-key\",\n",
        "        \"api_type\": \"openai\"\n",
        "    }\n",
        "]\n",
        "\n",
        "# Configuration for Gemini 1.5 Pro\n",
        "config_list_gemini = [\n",
        "    {\n",
        "        \"model\": \"gemini-1.5-pro-2m-latest\",\n",
        "        \"api_key\": \"your-api-key\",\n",
        "        \"api_type\": \"google\"\n",
        "    }\n",
        "]\n",
        "\n",
        "# Configuration for Claude 3.5 Sonnet\n",
        "config_list_claude = [\n",
        "    {\n",
        "        \"model\": \"claude-3-5-sonnet-20240620\",\n",
        "        \"api_key\": \"your-api-key\",\n",
        "        \"api_type\": \"anthropic\"\n",
        "    }\n",
        "]\n",
        "\n",
        "# Configuration for Mistral\n",
        "config_list_mistral = [\n",
        "    {\n",
        "        \"model\": \"mistral-large-latest\",\n",
        "        \"api_key\": \"your-api-key\",\n",
        "        \"api_type\": \"mistral\"\n",
        "    }\n",
        "]"
      ],
      "metadata": {
        "id": "hZ13vj4ISDZn"
      },
      "execution_count": null,
      "outputs": []
    },
    {
      "cell_type": "markdown",
      "source": [
        "## Step 3: Define Utility Functions\n",
        "Define the utility functions for text extraction and web scraping:"
      ],
      "metadata": {
        "id": "Qztx4wB7SE0a"
      }
    },
    {
      "cell_type": "code",
      "source": [
        "import requests\n",
        "from bs4 import BeautifulSoup\n",
        "from PyPDF2 import PdfReader\n",
        "from docx import Document\n",
        "from autogen import register_function\n",
        "\n",
        "def fetch_job_description(job_link: str) -> str:\n",
        "    response = requests.get(job_link)\n",
        "    if response.status_code == 200:\n",
        "        soup = BeautifulSoup(response.content, \"html.parser\")\n",
        "        job_description = soup.get_text()\n",
        "        return job_description\n",
        "    else:\n",
        "        raise ValueError(f\"Failed to fetch the job description. HTTP status code: {response.status_code}\")\n",
        "\n",
        "def extract_cv_text(file_path: str) -> str:\n",
        "    file_ext = file_path.split(\".\")[-1].lower()\n",
        "    if file_ext == \"pdf\":\n",
        "        return extract_text_from_pdf(file_path)\n",
        "    elif file_ext == \"docx\":\n",
        "        return extract_text_from_docx(file_path)\n",
        "    else:\n",
        "        raise ValueError(\"Unsupported file format. Please provide a PDF or DOCX file.\")\n",
        "\n",
        "def extract_text_from_pdf(file_path: str) -> str:\n",
        "    with open(file_path, \"rb\") as file:\n",
        "        reader = PdfReader(file)\n",
        "        text = \"\"\n",
        "        for page in reader.pages:\n",
        "            text += page.extract_text()\n",
        "        return text\n",
        "\n",
        "def extract_text_from_docx(file_path: str) -> str:\n",
        "    doc = Document(file_path)\n",
        "    return \"\\n\".join([para.text for para in doc.paragraphs])"
      ],
      "metadata": {
        "id": "D0vaokVDSHnl"
      },
      "execution_count": null,
      "outputs": []
    },
    {
      "cell_type": "markdown",
      "source": [
        "## Step 4: Define and Initialize Agents\n",
        "\n",
        "In this step, we define and initialize the agents that will collaborate to enhance your CV. You can customize the agent configuration based on your preferences and available API keys.\n",
        "\n",
        "### Default Configuration:\n",
        "- **GPT-4o**: Used for receiving input and analyzing CV and job descriptions.\n",
        "- **Claude 3.5 Sonnet**: Employed for CV editing and enhancement due to its strong performance in text generation and refinement tasks.\n",
        "\n",
        "Feel free to experiment with different combinations of agents to find the optimal setup for your needs. The provided code includes configurations for multiple models, including GPT-4o, Gemini, Claude, and Mistral.\n"
      ],
      "metadata": {
        "id": "kZ1X8ECQSOKh"
      }
    },
    {
      "cell_type": "code",
      "source": [
        "def termination_msg(x):\n",
        "    return isinstance(x, dict) and \"TERMINATE\" == str(x.get(\"content\", \"\"))[-9:].upper()\n",
        "\n",
        "llm_config_gpt4 = {\n",
        "    \"cache_seed\": 42,\n",
        "    \"temperature\": 0,\n",
        "    \"config_list\": config_list_gpt4,\n",
        "    \"timeout\": 120,\n",
        "}\n",
        "\n",
        "llm_config_gemini = {\n",
        "    \"cache_seed\": 42,\n",
        "    \"temperature\": 0,\n",
        "    \"config_list\": config_list_gemini,\n",
        "    \"timeout\": 120,\n",
        "}\n",
        "\n",
        "llm_config_claude = {\n",
        "    \"cache_seed\": 42,\n",
        "    \"temperature\": 0,\n",
        "    \"config_list\": config_list_claude,\n",
        "    \"timeout\": 120,\n",
        "}\n",
        "\n",
        "llm_config_mistral = {\n",
        "    \"cache_seed\": 42,\n",
        "    \"temperature\": 0.5,\n",
        "    \"max_tokens\": 10000,\n",
        "    \"safe_prompt\": False,\n",
        "    \"config_list\": config_list_mistral,\n",
        "    \"timeout\": 120,\n",
        "}\n",
        "\n",
        "# User Input Agent\n",
        "user_input_agent = autogen.UserProxyAgent(\n",
        "    name=\"UserInputAgent\",\n",
        "    is_termination_msg=termination_msg,\n",
        "    llm_config=llm_config_gpt4,\n",
        "    system_message= \"\"\"\n",
        "You are a User Input Agent. Your role is to receive extract_text_from_docx or extract_text_from_pdf, along with job_description,\n",
        "and pass both the extracted CV text and the job description to the CV Analysis Agent and Job Analysis Agent.\n",
        "Reply 'TERMINATE' when everything is done.\n",
        "\"\"\",\n",
        "    function_map={\n",
        "        \"fetch_job_description\": fetch_job_description,\n",
        "        \"extract_cv_text\": extract_cv_text,\n",
        "    }\n",
        ")\n",
        "cv_analysis_agent = autogen.AssistantAgent(\n",
        "    name=\"CVAnalysisAgent\",\n",
        "    is_termination_msg=termination_msg,\n",
        "    llm_config=llm_config_gpt4,\n",
        "    system_message=\"\"\"\n",
        "You are a CV Analysis Agent. Your task is to analyze the structure, content,\n",
        "and formatting of the user's CV. Identify key sections like summary, work experience, education, and skills.\n",
        "Structure this data in a format that can be easily consumed by other agents.\n",
        "Pass the analyzed CV data to the CV Enhancement Agent.\n",
        "\"\"\",\n",
        ")\n",
        "\n",
        "job_analysis_agent = autogen.AssistantAgent(\n",
        "    name=\"JobAnalysisAgent\",\n",
        "    is_termination_msg=termination_msg,\n",
        "    llm_config=llm_config_gpt4,\n",
        "    system_message=\"\"\"\n",
        "You are a Job Analysis Agent. Your task is to analyze job requirements,\n",
        "qualifications, and desired skills from the job description.\n",
        "Extract important keywords, phrases, and requirements related to the job.\n",
        "Structure the analyzed job data in a format that can be easily consumed by the CV Enhancement Agent.\n",
        "\"\"\",\n",
        ")\n",
        "\n",
        "ats_standards_agent = autogen.AssistantAgent(\n",
        "    name=\"ATSStandardsAgent\",\n",
        "    is_termination_msg=termination_msg,\n",
        "    llm_config=llm_config_gemini,\n",
        "    system_message=\"\"\"\n",
        "You are an ATS Standards Agent. Your task is to provide knowledge and guidelines\n",
        "about Applicant Tracking Systems (ATS), including CV formatting and keyword optimization best practices.\n",
        "Provide clear and actionable guidelines to ensure compliance with ATS.\n",
        "\"\"\",\n",
        ")\n",
        "\n",
        "cv_enhancement_agent = autogen.AssistantAgent(\n",
        "    name=\"CVEnhancementAgent\",\n",
        "    is_termination_msg=termination_msg,\n",
        "    llm_config=llm_config_gpt4,\n",
        "    system_message=\"\"\"\n",
        "You are a CV Enhancement Agent. Your task is to compare the CV content with the job requirements\n",
        "and ATS guidelines, identify areas for improvement, and generate specific suggestions for modifications.\n",
        "Ensure your suggestions are clear and actionable.\n",
        "\"\"\",\n",
        ")\n",
        "\n",
        "\n",
        "user_output_agent = autogen.AssistantAgent(\n",
        "    name=\"UserOutputAgent\",\n",
        "    is_termination_msg=termination_msg,\n",
        "    llm_config=llm_config_gemini,\n",
        "    system_message=\"\"\"\n",
        "You are a User Output Agent. Your task is to present CV enhancement suggestions in a clear and organized manner.\n",
        "Specify the exact changes and modifications needed for each part of the CV.\n",
        "Ensure the suggestions are user-friendly. Reply 'TERMINATE' when everything is done.\n",
        "\"\"\",\n",
        ")\n",
        "\n",
        "register_function(\n",
        "    fetch_job_description,\n",
        "    caller=user_input_agent,\n",
        "    executor=cv_analysis_agent,\n",
        "    name=\"fetch_job_description\",\n",
        "    description=\"Job description fetch\",\n",
        ")\n",
        "register_function(\n",
        "    extract_cv_text,\n",
        "    caller=user_input_agent,\n",
        "    executor=cv_analysis_agent,\n",
        "    name=\"extract_cv_text\",\n",
        "    description=\"Text extracted from CV\",\n",
        ")\n",
        "register_function(\n",
        "    extract_text_from_pdf,\n",
        "    caller=user_input_agent,\n",
        "    executor=cv_analysis_agent,\n",
        "    name=\"extract_text_from_pdf\",\n",
        "    description=\"Text extracted from PDF\",\n",
        ")\n",
        "register_function(\n",
        "    extract_text_from_docx,\n",
        "    caller=user_input_agent,\n",
        "    executor=cv_analysis_agent,\n",
        "    name=\"extract_text_from_docx\",\n",
        "    description=\"Text extrcated from word file\",\n",
        ")"
      ],
      "metadata": {
        "id": "DlH_zsKMSQH_"
      },
      "execution_count": null,
      "outputs": []
    },
    {
      "cell_type": "markdown",
      "source": [
        "## Step 5: User Input and Processing\n",
        "This step allows users to upload their CV and provide a job advertisement link for analysis."
      ],
      "metadata": {
        "id": "Uo1gxB1MSRh9"
      }
    },
    {
      "cell_type": "code",
      "source": [
        "from google.colab import files\n",
        "import os\n",
        "\n",
        "# Function to upload CV file\n",
        "def upload_cv():\n",
        "    print(\"Please upload your CV (PDF or DOCX format):\")\n",
        "    uploaded = files.upload()\n",
        "    if uploaded:\n",
        "        filename = list(uploaded.keys())[0]\n",
        "        return os.path.join('/content', filename)\n",
        "    else:\n",
        "        raise ValueError(\"No file was uploaded.\")\n",
        "\n",
        "# Get CV file path from user\n",
        "cv_path = upload_cv()\n",
        "\n",
        "# Get job advertisement link from user\n",
        "job_ad_link = input(\"Please enter the job advertisement link: \")\n",
        "\n",
        "# Process user input and get initial CV content and job description\n",
        "cv_content = extract_cv_text(cv_path)\n",
        "job_description = fetch_job_description(job_ad_link)"
      ],
      "metadata": {
        "id": "d9fz2nPFSWm5"
      },
      "execution_count": null,
      "outputs": []
    },
    {
      "cell_type": "markdown",
      "source": [
        "## Step 6: Group Chat Setup and Enhancement Process\n",
        "Here, we set up the group chat with all defined agents and initiate the CV enhancement process."
      ],
      "metadata": {
        "id": "uLVQoYdOSaqk"
      }
    },
    {
      "cell_type": "code",
      "source": [
        "# Initialize group chat with all agents\n",
        "group_chat = autogen.GroupChat(\n",
        "    agents=[user_input_agent, cv_analysis_agent, job_analysis_agent,\n",
        "            ats_standards_agent, cv_enhancement_agent, user_output_agent],\n",
        "    messages=[],\n",
        "    speaker_selection_method=\"auto\",\n",
        "    max_round=50\n",
        ")\n",
        "\n",
        "# Create a GroupChatManager\n",
        "manager = autogen.GroupChatManager(groupchat=group_chat, llm_config=llm_config_gpt4)\n",
        "\n",
        "\n",
        "# Reset the agents to ensure a clean state\n",
        "for agent in group_chat.agents:\n",
        "    agent.reset()\n",
        "\n",
        "# Function to initiate interaction with the User Input Agent\n",
        "def initiate_cv_enhancement(cv_content: str, job_description: str):\n",
        "    initial_message = {\n",
        "        \"cv_content\": cv_content,\n",
        "        \"job_description\": job_description\n",
        "    }\n",
        "\n",
        "user_input_agent.initiate_chat(manager, message=\"CV:\" + cv_content + \"Job Description:\" + job_description )\n",
        "\n",
        "\n",
        "# Start the CV enhancement process\n",
        "response = initiate_cv_enhancement(cv_content, job_description)\n",
        "\n",
        "print(response)\n"
      ],
      "metadata": {
        "id": "VD-D2GEPIuuA"
      },
      "execution_count": null,
      "outputs": []
    }
  ]
}
